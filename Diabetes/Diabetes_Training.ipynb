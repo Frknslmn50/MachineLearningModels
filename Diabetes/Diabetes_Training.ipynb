{
 "cells": [
  {
   "cell_type": "code",
   "execution_count": 1,
   "id": "697340b1",
   "metadata": {
    "execution": {
     "iopub.execute_input": "2022-10-16T15:02:38.668019Z",
     "iopub.status.busy": "2022-10-16T15:02:38.667203Z",
     "iopub.status.idle": "2022-10-16T15:02:39.999918Z",
     "shell.execute_reply": "2022-10-16T15:02:39.998805Z"
    },
    "papermill": {
     "duration": 1.346443,
     "end_time": "2022-10-16T15:02:40.002532",
     "exception": false,
     "start_time": "2022-10-16T15:02:38.656089",
     "status": "completed"
    },
    "tags": []
   },
   "outputs": [],
   "source": [
    "import numpy as np\n",
    "import pandas as pd\n",
    "import matplotlib.pyplot as plt\n",
    "import seaborn as sns\n",
    "from sklearn.model_selection import train_test_split, cross_val_score\n",
    "from sklearn.preprocessing import StandardScaler"
   ]
  },
  {
   "cell_type": "code",
   "execution_count": 2,
   "id": "bcea09e9",
   "metadata": {
    "execution": {
     "iopub.execute_input": "2022-10-16T15:02:40.016115Z",
     "iopub.status.busy": "2022-10-16T15:02:40.015275Z",
     "iopub.status.idle": "2022-10-16T15:02:40.042160Z",
     "shell.execute_reply": "2022-10-16T15:02:40.040873Z"
    },
    "papermill": {
     "duration": 0.036658,
     "end_time": "2022-10-16T15:02:40.045016",
     "exception": false,
     "start_time": "2022-10-16T15:02:40.008358",
     "status": "completed"
    },
    "tags": []
   },
   "outputs": [],
   "source": [
    "data = pd.read_csv(\"diabetes.csv\")"
   ]
  },
  {
   "cell_type": "code",
   "execution_count": 3,
   "id": "e8742f08",
   "metadata": {
    "execution": {
     "iopub.execute_input": "2022-10-16T15:02:40.058663Z",
     "iopub.status.busy": "2022-10-16T15:02:40.058220Z",
     "iopub.status.idle": "2022-10-16T15:02:40.080486Z",
     "shell.execute_reply": "2022-10-16T15:02:40.079463Z"
    },
    "papermill": {
     "duration": 0.032933,
     "end_time": "2022-10-16T15:02:40.083754",
     "exception": false,
     "start_time": "2022-10-16T15:02:40.050821",
     "status": "completed"
    },
    "tags": []
   },
   "outputs": [
    {
     "data": {
      "text/html": [
       "<div>\n",
       "<style scoped>\n",
       "    .dataframe tbody tr th:only-of-type {\n",
       "        vertical-align: middle;\n",
       "    }\n",
       "\n",
       "    .dataframe tbody tr th {\n",
       "        vertical-align: top;\n",
       "    }\n",
       "\n",
       "    .dataframe thead th {\n",
       "        text-align: right;\n",
       "    }\n",
       "</style>\n",
       "<table border=\"1\" class=\"dataframe\">\n",
       "  <thead>\n",
       "    <tr style=\"text-align: right;\">\n",
       "      <th></th>\n",
       "      <th>Pregnancies</th>\n",
       "      <th>Glucose</th>\n",
       "      <th>BloodPressure</th>\n",
       "      <th>SkinThickness</th>\n",
       "      <th>Insulin</th>\n",
       "      <th>BMI</th>\n",
       "      <th>DiabetesPedigreeFunction</th>\n",
       "      <th>Age</th>\n",
       "      <th>Outcome</th>\n",
       "    </tr>\n",
       "  </thead>\n",
       "  <tbody>\n",
       "    <tr>\n",
       "      <th>0</th>\n",
       "      <td>6</td>\n",
       "      <td>148</td>\n",
       "      <td>72</td>\n",
       "      <td>35</td>\n",
       "      <td>0</td>\n",
       "      <td>33.6</td>\n",
       "      <td>0.627</td>\n",
       "      <td>50</td>\n",
       "      <td>1</td>\n",
       "    </tr>\n",
       "    <tr>\n",
       "      <th>1</th>\n",
       "      <td>1</td>\n",
       "      <td>85</td>\n",
       "      <td>66</td>\n",
       "      <td>29</td>\n",
       "      <td>0</td>\n",
       "      <td>26.6</td>\n",
       "      <td>0.351</td>\n",
       "      <td>31</td>\n",
       "      <td>0</td>\n",
       "    </tr>\n",
       "    <tr>\n",
       "      <th>2</th>\n",
       "      <td>8</td>\n",
       "      <td>183</td>\n",
       "      <td>64</td>\n",
       "      <td>0</td>\n",
       "      <td>0</td>\n",
       "      <td>23.3</td>\n",
       "      <td>0.672</td>\n",
       "      <td>32</td>\n",
       "      <td>1</td>\n",
       "    </tr>\n",
       "    <tr>\n",
       "      <th>3</th>\n",
       "      <td>1</td>\n",
       "      <td>89</td>\n",
       "      <td>66</td>\n",
       "      <td>23</td>\n",
       "      <td>94</td>\n",
       "      <td>28.1</td>\n",
       "      <td>0.167</td>\n",
       "      <td>21</td>\n",
       "      <td>0</td>\n",
       "    </tr>\n",
       "    <tr>\n",
       "      <th>4</th>\n",
       "      <td>0</td>\n",
       "      <td>137</td>\n",
       "      <td>40</td>\n",
       "      <td>35</td>\n",
       "      <td>168</td>\n",
       "      <td>43.1</td>\n",
       "      <td>2.288</td>\n",
       "      <td>33</td>\n",
       "      <td>1</td>\n",
       "    </tr>\n",
       "  </tbody>\n",
       "</table>\n",
       "</div>"
      ],
      "text/plain": [
       "   Pregnancies  Glucose  BloodPressure  SkinThickness  Insulin   BMI  \\\n",
       "0            6      148             72             35        0  33.6   \n",
       "1            1       85             66             29        0  26.6   \n",
       "2            8      183             64              0        0  23.3   \n",
       "3            1       89             66             23       94  28.1   \n",
       "4            0      137             40             35      168  43.1   \n",
       "\n",
       "   DiabetesPedigreeFunction  Age  Outcome  \n",
       "0                     0.627   50        1  \n",
       "1                     0.351   31        0  \n",
       "2                     0.672   32        1  \n",
       "3                     0.167   21        0  \n",
       "4                     2.288   33        1  "
      ]
     },
     "execution_count": 3,
     "metadata": {},
     "output_type": "execute_result"
    }
   ],
   "source": [
    "data.head()"
   ]
  },
  {
   "cell_type": "code",
   "execution_count": 4,
   "id": "aa622c7b",
   "metadata": {
    "execution": {
     "iopub.execute_input": "2022-10-16T15:02:40.097924Z",
     "iopub.status.busy": "2022-10-16T15:02:40.096715Z",
     "iopub.status.idle": "2022-10-16T15:02:40.104094Z",
     "shell.execute_reply": "2022-10-16T15:02:40.102945Z"
    },
    "papermill": {
     "duration": 0.016886,
     "end_time": "2022-10-16T15:02:40.106456",
     "exception": false,
     "start_time": "2022-10-16T15:02:40.089570",
     "status": "completed"
    },
    "tags": []
   },
   "outputs": [
    {
     "data": {
      "text/plain": [
       "(768, 9)"
      ]
     },
     "execution_count": 4,
     "metadata": {},
     "output_type": "execute_result"
    }
   ],
   "source": [
    "data.shape"
   ]
  },
  {
   "cell_type": "code",
   "execution_count": 5,
   "id": "4f4e3af2",
   "metadata": {
    "execution": {
     "iopub.execute_input": "2022-10-16T15:02:40.120434Z",
     "iopub.status.busy": "2022-10-16T15:02:40.119998Z",
     "iopub.status.idle": "2022-10-16T15:02:40.130041Z",
     "shell.execute_reply": "2022-10-16T15:02:40.128970Z"
    },
    "papermill": {
     "duration": 0.020023,
     "end_time": "2022-10-16T15:02:40.132345",
     "exception": false,
     "start_time": "2022-10-16T15:02:40.112322",
     "status": "completed"
    },
    "tags": []
   },
   "outputs": [
    {
     "data": {
      "text/plain": [
       "Pregnancies                 0\n",
       "Glucose                     0\n",
       "BloodPressure               0\n",
       "SkinThickness               0\n",
       "Insulin                     0\n",
       "BMI                         0\n",
       "DiabetesPedigreeFunction    0\n",
       "Age                         0\n",
       "Outcome                     0\n",
       "dtype: int64"
      ]
     },
     "execution_count": 5,
     "metadata": {},
     "output_type": "execute_result"
    }
   ],
   "source": [
    "data.isna().sum()"
   ]
  },
  {
   "cell_type": "markdown",
   "id": "b5059c51",
   "metadata": {
    "papermill": {
     "duration": 0.005561,
     "end_time": "2022-10-16T15:02:40.143929",
     "exception": false,
     "start_time": "2022-10-16T15:02:40.138368",
     "status": "completed"
    },
    "tags": []
   },
   "source": [
    "We have no null values"
   ]
  },
  {
   "cell_type": "code",
   "execution_count": 6,
   "id": "ad517434",
   "metadata": {
    "execution": {
     "iopub.execute_input": "2022-10-16T15:02:40.157237Z",
     "iopub.status.busy": "2022-10-16T15:02:40.156820Z",
     "iopub.status.idle": "2022-10-16T15:02:40.182382Z",
     "shell.execute_reply": "2022-10-16T15:02:40.181037Z"
    },
    "papermill": {
     "duration": 0.035148,
     "end_time": "2022-10-16T15:02:40.184825",
     "exception": false,
     "start_time": "2022-10-16T15:02:40.149677",
     "status": "completed"
    },
    "tags": []
   },
   "outputs": [
    {
     "name": "stdout",
     "output_type": "stream",
     "text": [
      "<class 'pandas.core.frame.DataFrame'>\n",
      "RangeIndex: 768 entries, 0 to 767\n",
      "Data columns (total 9 columns):\n",
      " #   Column                    Non-Null Count  Dtype  \n",
      "---  ------                    --------------  -----  \n",
      " 0   Pregnancies               768 non-null    int64  \n",
      " 1   Glucose                   768 non-null    int64  \n",
      " 2   BloodPressure             768 non-null    int64  \n",
      " 3   SkinThickness             768 non-null    int64  \n",
      " 4   Insulin                   768 non-null    int64  \n",
      " 5   BMI                       768 non-null    float64\n",
      " 6   DiabetesPedigreeFunction  768 non-null    float64\n",
      " 7   Age                       768 non-null    int64  \n",
      " 8   Outcome                   768 non-null    int64  \n",
      "dtypes: float64(2), int64(7)\n",
      "memory usage: 54.1 KB\n"
     ]
    }
   ],
   "source": [
    "data.info()"
   ]
  },
  {
   "cell_type": "code",
   "execution_count": 7,
   "id": "b9713a78",
   "metadata": {
    "execution": {
     "iopub.execute_input": "2022-10-16T15:02:40.198840Z",
     "iopub.status.busy": "2022-10-16T15:02:40.198453Z",
     "iopub.status.idle": "2022-10-16T15:02:40.237449Z",
     "shell.execute_reply": "2022-10-16T15:02:40.236570Z"
    },
    "papermill": {
     "duration": 0.048531,
     "end_time": "2022-10-16T15:02:40.239709",
     "exception": false,
     "start_time": "2022-10-16T15:02:40.191178",
     "status": "completed"
    },
    "tags": []
   },
   "outputs": [
    {
     "data": {
      "text/html": [
       "<div>\n",
       "<style scoped>\n",
       "    .dataframe tbody tr th:only-of-type {\n",
       "        vertical-align: middle;\n",
       "    }\n",
       "\n",
       "    .dataframe tbody tr th {\n",
       "        vertical-align: top;\n",
       "    }\n",
       "\n",
       "    .dataframe thead th {\n",
       "        text-align: right;\n",
       "    }\n",
       "</style>\n",
       "<table border=\"1\" class=\"dataframe\">\n",
       "  <thead>\n",
       "    <tr style=\"text-align: right;\">\n",
       "      <th></th>\n",
       "      <th>Pregnancies</th>\n",
       "      <th>Glucose</th>\n",
       "      <th>BloodPressure</th>\n",
       "      <th>SkinThickness</th>\n",
       "      <th>Insulin</th>\n",
       "      <th>BMI</th>\n",
       "      <th>DiabetesPedigreeFunction</th>\n",
       "      <th>Age</th>\n",
       "      <th>Outcome</th>\n",
       "    </tr>\n",
       "  </thead>\n",
       "  <tbody>\n",
       "    <tr>\n",
       "      <th>count</th>\n",
       "      <td>768.000000</td>\n",
       "      <td>768.000000</td>\n",
       "      <td>768.000000</td>\n",
       "      <td>768.000000</td>\n",
       "      <td>768.000000</td>\n",
       "      <td>768.000000</td>\n",
       "      <td>768.000000</td>\n",
       "      <td>768.000000</td>\n",
       "      <td>768.000000</td>\n",
       "    </tr>\n",
       "    <tr>\n",
       "      <th>mean</th>\n",
       "      <td>3.845052</td>\n",
       "      <td>120.894531</td>\n",
       "      <td>69.105469</td>\n",
       "      <td>20.536458</td>\n",
       "      <td>79.799479</td>\n",
       "      <td>31.992578</td>\n",
       "      <td>0.471876</td>\n",
       "      <td>33.240885</td>\n",
       "      <td>0.348958</td>\n",
       "    </tr>\n",
       "    <tr>\n",
       "      <th>std</th>\n",
       "      <td>3.369578</td>\n",
       "      <td>31.972618</td>\n",
       "      <td>19.355807</td>\n",
       "      <td>15.952218</td>\n",
       "      <td>115.244002</td>\n",
       "      <td>7.884160</td>\n",
       "      <td>0.331329</td>\n",
       "      <td>11.760232</td>\n",
       "      <td>0.476951</td>\n",
       "    </tr>\n",
       "    <tr>\n",
       "      <th>min</th>\n",
       "      <td>0.000000</td>\n",
       "      <td>0.000000</td>\n",
       "      <td>0.000000</td>\n",
       "      <td>0.000000</td>\n",
       "      <td>0.000000</td>\n",
       "      <td>0.000000</td>\n",
       "      <td>0.078000</td>\n",
       "      <td>21.000000</td>\n",
       "      <td>0.000000</td>\n",
       "    </tr>\n",
       "    <tr>\n",
       "      <th>25%</th>\n",
       "      <td>1.000000</td>\n",
       "      <td>99.000000</td>\n",
       "      <td>62.000000</td>\n",
       "      <td>0.000000</td>\n",
       "      <td>0.000000</td>\n",
       "      <td>27.300000</td>\n",
       "      <td>0.243750</td>\n",
       "      <td>24.000000</td>\n",
       "      <td>0.000000</td>\n",
       "    </tr>\n",
       "    <tr>\n",
       "      <th>50%</th>\n",
       "      <td>3.000000</td>\n",
       "      <td>117.000000</td>\n",
       "      <td>72.000000</td>\n",
       "      <td>23.000000</td>\n",
       "      <td>30.500000</td>\n",
       "      <td>32.000000</td>\n",
       "      <td>0.372500</td>\n",
       "      <td>29.000000</td>\n",
       "      <td>0.000000</td>\n",
       "    </tr>\n",
       "    <tr>\n",
       "      <th>75%</th>\n",
       "      <td>6.000000</td>\n",
       "      <td>140.250000</td>\n",
       "      <td>80.000000</td>\n",
       "      <td>32.000000</td>\n",
       "      <td>127.250000</td>\n",
       "      <td>36.600000</td>\n",
       "      <td>0.626250</td>\n",
       "      <td>41.000000</td>\n",
       "      <td>1.000000</td>\n",
       "    </tr>\n",
       "    <tr>\n",
       "      <th>max</th>\n",
       "      <td>17.000000</td>\n",
       "      <td>199.000000</td>\n",
       "      <td>122.000000</td>\n",
       "      <td>99.000000</td>\n",
       "      <td>846.000000</td>\n",
       "      <td>67.100000</td>\n",
       "      <td>2.420000</td>\n",
       "      <td>81.000000</td>\n",
       "      <td>1.000000</td>\n",
       "    </tr>\n",
       "  </tbody>\n",
       "</table>\n",
       "</div>"
      ],
      "text/plain": [
       "       Pregnancies     Glucose  BloodPressure  SkinThickness     Insulin  \\\n",
       "count   768.000000  768.000000     768.000000     768.000000  768.000000   \n",
       "mean      3.845052  120.894531      69.105469      20.536458   79.799479   \n",
       "std       3.369578   31.972618      19.355807      15.952218  115.244002   \n",
       "min       0.000000    0.000000       0.000000       0.000000    0.000000   \n",
       "25%       1.000000   99.000000      62.000000       0.000000    0.000000   \n",
       "50%       3.000000  117.000000      72.000000      23.000000   30.500000   \n",
       "75%       6.000000  140.250000      80.000000      32.000000  127.250000   \n",
       "max      17.000000  199.000000     122.000000      99.000000  846.000000   \n",
       "\n",
       "              BMI  DiabetesPedigreeFunction         Age     Outcome  \n",
       "count  768.000000                768.000000  768.000000  768.000000  \n",
       "mean    31.992578                  0.471876   33.240885    0.348958  \n",
       "std      7.884160                  0.331329   11.760232    0.476951  \n",
       "min      0.000000                  0.078000   21.000000    0.000000  \n",
       "25%     27.300000                  0.243750   24.000000    0.000000  \n",
       "50%     32.000000                  0.372500   29.000000    0.000000  \n",
       "75%     36.600000                  0.626250   41.000000    1.000000  \n",
       "max     67.100000                  2.420000   81.000000    1.000000  "
      ]
     },
     "execution_count": 7,
     "metadata": {},
     "output_type": "execute_result"
    }
   ],
   "source": [
    "data.describe()"
   ]
  },
  {
   "cell_type": "code",
   "execution_count": 8,
   "id": "19a99fe2",
   "metadata": {
    "execution": {
     "iopub.execute_input": "2022-10-16T15:02:40.254765Z",
     "iopub.status.busy": "2022-10-16T15:02:40.254316Z",
     "iopub.status.idle": "2022-10-16T15:02:41.070287Z",
     "shell.execute_reply": "2022-10-16T15:02:41.069353Z"
    },
    "papermill": {
     "duration": 0.826221,
     "end_time": "2022-10-16T15:02:41.072703",
     "exception": false,
     "start_time": "2022-10-16T15:02:40.246482",
     "status": "completed"
    },
    "tags": []
   },
   "outputs": [
    {
     "data": {
      "text/plain": [
       "<AxesSubplot:>"
      ]
     },
     "execution_count": 8,
     "metadata": {},
     "output_type": "execute_result"
    },
    {
     "data": {
      "image/png": "[encoded data removed]",
      "text/plain": [
       "<Figure size 1440x1080 with 2 Axes>"
      ]
     },
     "metadata": {
      "needs_background": "light"
     },
     "output_type": "display_data"
    }
   ],
   "source": [
    "plt.figure(figsize=(20,15))\n",
    "sns.heatmap(data.corr(),annot=True)"
   ]
  },
  {
   "cell_type": "markdown",
   "id": "c66a4158",
   "metadata": {
    "papermill": {
     "duration": 0.0084,
     "end_time": "2022-10-16T15:02:41.088906",
     "exception": false,
     "start_time": "2022-10-16T15:02:41.080506",
     "status": "completed"
    },
    "tags": []
   },
   "source": [
    "BloodPressure and SkinThickness has almost no impact on outcome so we may drop them. I already tried it and it didn't change the models's score that much so i will leave it this way."
   ]
  },
  {
   "cell_type": "code",
   "execution_count": 9,
   "id": "0afd6c61",
   "metadata": {
    "execution": {
     "iopub.execute_input": "2022-10-16T15:02:41.107519Z",
     "iopub.status.busy": "2022-10-16T15:02:41.106375Z",
     "iopub.status.idle": "2022-10-16T15:02:41.112262Z",
     "shell.execute_reply": "2022-10-16T15:02:41.111487Z"
    },
    "papermill": {
     "duration": 0.01718,
     "end_time": "2022-10-16T15:02:41.114495",
     "exception": false,
     "start_time": "2022-10-16T15:02:41.097315",
     "status": "completed"
    },
    "tags": []
   },
   "outputs": [],
   "source": [
    "X = data.drop(\"Outcome\",axis=\"columns\")\n",
    "y = data[\"Outcome\"]"
   ]
  },
  {
   "cell_type": "code",
   "execution_count": 10,
   "id": "e64e1c8b",
   "metadata": {
    "execution": {
     "iopub.execute_input": "2022-10-16T15:02:41.131825Z",
     "iopub.status.busy": "2022-10-16T15:02:41.130838Z",
     "iopub.status.idle": "2022-10-16T15:02:41.995632Z",
     "shell.execute_reply": "2022-10-16T15:02:41.994686Z"
    },
    "papermill": {
     "duration": 0.875781,
     "end_time": "2022-10-16T15:02:41.997899",
     "exception": false,
     "start_time": "2022-10-16T15:02:41.122118",
     "status": "completed"
    },
    "tags": []
   },
   "outputs": [
    {
     "data": {
      "image/png": "[encoded data removed]",
      "text/plain": [
       "<Figure size 1440x720 with 8 Axes>"
      ]
     },
     "metadata": {
      "needs_background": "light"
     },
     "output_type": "display_data"
    }
   ],
   "source": [
    "def plot_boxplot(data,rows,columns):\n",
    "    \"\"\" Plots all features \"\"\"\n",
    "    lst_num_column = []\n",
    "    for column in data.columns:\n",
    "        if(data[column].dtype != \"object\"):\n",
    "            lst_num_column.append(column)\n",
    "    count = 0\n",
    "    fig, axs = plt.subplots(rows, columns, figsize=(columns*5,rows*5))\n",
    "    for i in range(rows):\n",
    "        for j in range(columns):\n",
    "            sns.boxplot(ax= axs[i, j], data=data, x=lst_num_column[count])\n",
    "            count += 1\n",
    "plot_boxplot(X,2,4)"
   ]
  },
  {
   "cell_type": "markdown",
   "id": "0095ace8",
   "metadata": {
    "papermill": {
     "duration": 0.00773,
     "end_time": "2022-10-16T15:02:42.013956",
     "exception": false,
     "start_time": "2022-10-16T15:02:42.006226",
     "status": "completed"
    },
    "tags": []
   },
   "source": [
    "Almost all of or features have some outliers. We can suppres them with winsorization"
   ]
  },
  {
   "cell_type": "code",
   "execution_count": 11,
   "id": "6d99091f",
   "metadata": {
    "execution": {
     "iopub.execute_input": "2022-10-16T15:02:42.032268Z",
     "iopub.status.busy": "2022-10-16T15:02:42.031574Z",
     "iopub.status.idle": "2022-10-16T15:02:42.036632Z",
     "shell.execute_reply": "2022-10-16T15:02:42.035835Z"
    },
    "papermill": {
     "duration": 0.016917,
     "end_time": "2022-10-16T15:02:42.038851",
     "exception": false,
     "start_time": "2022-10-16T15:02:42.021934",
     "status": "completed"
    },
    "tags": []
   },
   "outputs": [],
   "source": [
    "from scipy.stats.mstats import winsorize"
   ]
  },
  {
   "cell_type": "code",
   "execution_count": 12,
   "id": "96815209",
   "metadata": {
    "execution": {
     "iopub.execute_input": "2022-10-16T15:02:42.057134Z",
     "iopub.status.busy": "2022-10-16T15:02:42.056484Z",
     "iopub.status.idle": "2022-10-16T15:02:42.067217Z",
     "shell.execute_reply": "2022-10-16T15:02:42.066313Z"
    },
    "papermill": {
     "duration": 0.022929,
     "end_time": "2022-10-16T15:02:42.069710",
     "exception": false,
     "start_time": "2022-10-16T15:02:42.046781",
     "status": "completed"
    },
    "tags": []
   },
   "outputs": [],
   "source": [
    "for col in X.columns:\n",
    "    X[col] = winsorize(X[col],(0.05,0.05))"
   ]
  },
  {
   "cell_type": "markdown",
   "id": "536417d5",
   "metadata": {
    "papermill": {
     "duration": 0.007539,
     "end_time": "2022-10-16T15:02:42.085279",
     "exception": false,
     "start_time": "2022-10-16T15:02:42.077740",
     "status": "completed"
    },
    "tags": []
   },
   "source": [
    "We updated our data set now we don't have any outliers. But it also didn't change the models's score."
   ]
  },
  {
   "cell_type": "code",
   "execution_count": 13,
   "id": "55e984d8",
   "metadata": {
    "execution": {
     "iopub.execute_input": "2022-10-16T15:02:42.103544Z",
     "iopub.status.busy": "2022-10-16T15:02:42.102870Z",
     "iopub.status.idle": "2022-10-16T15:02:43.060284Z",
     "shell.execute_reply": "2022-10-16T15:02:43.059408Z"
    },
    "papermill": {
     "duration": 0.969545,
     "end_time": "2022-10-16T15:02:43.062843",
     "exception": false,
     "start_time": "2022-10-16T15:02:42.093298",
     "status": "completed"
    },
    "tags": []
   },
   "outputs": [
    {
     "data": {
      "image/png": "[encoded data removed]",
      "text/plain": [
       "<Figure size 1440x720 with 8 Axes>"
      ]
     },
     "metadata": {
      "needs_background": "light"
     },
     "output_type": "display_data"
    }
   ],
   "source": [
    "plot_boxplot(X,2,4)"
   ]
  },
  {
   "cell_type": "code",
   "execution_count": 14,
   "id": "93385dfc",
   "metadata": {
    "execution": {
     "iopub.execute_input": "2022-10-16T15:02:43.081954Z",
     "iopub.status.busy": "2022-10-16T15:02:43.080862Z",
     "iopub.status.idle": "2022-10-16T15:02:43.087831Z",
     "shell.execute_reply": "2022-10-16T15:02:43.087069Z"
    },
    "papermill": {
     "duration": 0.018932,
     "end_time": "2022-10-16T15:02:43.090108",
     "exception": false,
     "start_time": "2022-10-16T15:02:43.071176",
     "status": "completed"
    },
    "tags": []
   },
   "outputs": [],
   "source": [
    "X_train , X_test , y_train , y_test = train_test_split(X,y,test_size=0.3)"
   ]
  },
  {
   "cell_type": "code",
   "execution_count": 15,
   "id": "8df31c46",
   "metadata": {
    "execution": {
     "iopub.execute_input": "2022-10-16T15:02:43.108417Z",
     "iopub.status.busy": "2022-10-16T15:02:43.107974Z",
     "iopub.status.idle": "2022-10-16T15:02:43.634169Z",
     "shell.execute_reply": "2022-10-16T15:02:43.633005Z"
    },
    "papermill": {
     "duration": 0.538802,
     "end_time": "2022-10-16T15:02:43.637159",
     "exception": false,
     "start_time": "2022-10-16T15:02:43.098357",
     "status": "completed"
    },
    "tags": []
   },
   "outputs": [
    {
     "name": "stderr",
     "output_type": "stream",
     "text": [
      "C:\\Users\\FURKANSALMAN\\Anaconda3\\lib\\site-packages\\xgboost\\compat.py:36: FutureWarning: pandas.Int64Index is deprecated and will be removed from pandas in a future version. Use pandas.Index with the appropriate dtype instead.\n",
      "  from pandas import MultiIndex, Int64Index\n"
     ]
    }
   ],
   "source": [
    "from sklearn.linear_model import LogisticRegression\n",
    "from sklearn.ensemble import RandomForestClassifier\n",
    "from xgboost import XGBClassifier\n",
    "from catboost import CatBoostClassifier"
   ]
  },
  {
   "cell_type": "code",
   "execution_count": 16,
   "id": "95d24520",
   "metadata": {
    "execution": {
     "iopub.execute_input": "2022-10-16T15:02:43.657454Z",
     "iopub.status.busy": "2022-10-16T15:02:43.657010Z",
     "iopub.status.idle": "2022-10-16T15:02:46.018538Z",
     "shell.execute_reply": "2022-10-16T15:02:46.017089Z"
    },
    "papermill": {
     "duration": 2.375687,
     "end_time": "2022-10-16T15:02:46.021638",
     "exception": false,
     "start_time": "2022-10-16T15:02:43.645951",
     "status": "completed"
    },
    "tags": []
   },
   "outputs": [
    {
     "name": "stdout",
     "output_type": "stream",
     "text": [
      "Model :  LogisticRegression\n",
      "Score :  0.7965367965367965\n",
      "Model :  RandomForestClassifier\n",
      "Score :  0.7792207792207793\n",
      "[18:07:08] WARNING: ..\\src\\learner.cc:1115: Starting in XGBoost 1.3.0, the default evaluation metric used with the objective 'binary:logistic' was changed from 'error' to 'logloss'. Explicitly set eval_metric if you'd like to restore the old behavior.\n"
     ]
    },
    {
     "name": "stderr",
     "output_type": "stream",
     "text": [
      "C:\\Users\\FURKANSALMAN\\Anaconda3\\lib\\site-packages\\xgboost\\sklearn.py:1224: UserWarning: The use of label encoder in XGBClassifier is deprecated and will be removed in a future release. To remove this warning, do the following: 1) Pass option use_label_encoder=False when constructing XGBClassifier object; and 2) Encode your labels (y) as integers starting with 0, i.e. 0, 1, 2, ..., [num_class - 1].\n",
      "  warnings.warn(label_encoder_deprecation_msg, UserWarning)\n",
      "C:\\Users\\FURKANSALMAN\\Anaconda3\\lib\\site-packages\\xgboost\\data.py:250: FutureWarning: pandas.Int64Index is deprecated and will be removed from pandas in a future version. Use pandas.Index with the appropriate dtype instead.\n",
      "  elif isinstance(data.columns, (pd.Int64Index, pd.RangeIndex)):\n"
     ]
    },
    {
     "name": "stdout",
     "output_type": "stream",
     "text": [
      "Model :  XGBClassifier\n",
      "Score :  0.7662337662337663\n",
      "Model :  CatBoostClassifier\n",
      "Score :  0.7575757575757576\n"
     ]
    }
   ],
   "source": [
    "Models = {\"LogisticRegression\":LogisticRegression(max_iter=200),\"RandomForestClassifier\":RandomForestClassifier(n_estimators=350),\"XGBClassifier\":XGBClassifier(),\"CatBoostClassifier\":CatBoostClassifier(silent=True)}\n",
    "for name , model in Models.items():\n",
    "    model.fit(X_train,y_train)\n",
    "    print(\"Model : \",name)\n",
    "    print(\"Score : \",model.score(X_test,y_test))"
   ]
  },
  {
   "cell_type": "code",
   "execution_count": null,
   "id": "068607b0",
   "metadata": {
    "papermill": {
     "duration": 0.008418,
     "end_time": "2022-10-16T15:02:46.039094",
     "exception": false,
     "start_time": "2022-10-16T15:02:46.030676",
     "status": "completed"
    },
    "tags": []
   },
   "outputs": [],
   "source": []
  }
 ],
 "metadata": {
  "kernelspec": {
   "display_name": "Python 3 (ipykernel)",
   "language": "python",
   "name": "python3"
  },
  "language_info": {
   "codemirror_mode": {
    "name": "ipython",
    "version": 3
   },
   "file_extension": ".py",
   "mimetype": "text/x-python",
   "name": "python",
   "nbconvert_exporter": "python",
   "pygments_lexer": "ipython3",
   "version": "3.9.12"
  },
  "papermill": {
   "default_parameters": {},
   "duration": 18.566963,
   "end_time": "2022-10-16T15:02:46.870496",
   "environment_variables": {},
   "exception": null,
   "input_path": "__notebook__.ipynb",
   "output_path": "__notebook__.ipynb",
   "parameters": {},
   "start_time": "2022-10-16T15:02:28.303533",
   "version": "2.3.4"
  }
 },
 "nbformat": 4,
 "nbformat_minor": 5
}
